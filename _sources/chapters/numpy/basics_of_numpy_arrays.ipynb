{
 "cells": [
  {
   "cell_type": "markdown",
   "id": "34554e53",
   "metadata": {
    "jp-MarkdownHeadingCollapsed": true
   },
   "source": [
    "# Basics of NumPy Arrays\n",
    "\n",
    "\n",
    "## NumPy Array Attributes\n",
    "\n",
    "## Array Indexing\n",
    "\n",
    "## Reshaping of Arrays\n",
    "\n",
    "## Array Concatenation and Splitting\n",
    "\n",
    "<!-- ```{code-cell} ipython3\n",
    "\n",
    "```\n",
    " -->"
   ]
  }
 ],
 "metadata": {
  "jupytext": {
   "formats": "ipynb,md:myst"
  },
  "kernelspec": {
   "display_name": "Python 3 (ipykernel)",
   "language": "python",
   "name": "python3"
  },
  "language_info": {
   "codemirror_mode": {
    "name": "ipython",
    "version": 3
   },
   "file_extension": ".py",
   "mimetype": "text/x-python",
   "name": "python",
   "nbconvert_exporter": "python",
   "pygments_lexer": "ipython3",
   "version": "3.10.13"
  }
 },
 "nbformat": 4,
 "nbformat_minor": 5
}

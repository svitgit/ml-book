{
 "cells": [
  {
   "cell_type": "markdown",
   "id": "c47d7ef3",
   "metadata": {},
   "source": [
    "# NumPy Basics\n",
    "\n",
    "## NumPy installation via PIP\n",
    "\n",
    "To install `numpy` package use the following command:\n",
    "```bash\n",
    "pip install numpy\n",
    "```\n",
    "\n",
    "## Creating NumPy arrays"
   ]
  },
  {
   "cell_type": "code",
   "execution_count": null,
   "id": "bcc67b4f-6085-4a46-8ab4-68011a8a94ad",
   "metadata": {},
   "outputs": [],
   "source": []
  }
 ],
 "metadata": {
  "jupytext": {
   "formats": "ipynb,md:myst"
  },
  "kernelspec": {
   "display_name": "Python 3 (ipykernel)",
   "language": "python",
   "name": "python3"
  },
  "language_info": {
   "codemirror_mode": {
    "name": "ipython",
    "version": 3
   },
   "file_extension": ".py",
   "mimetype": "text/x-python",
   "name": "python",
   "nbconvert_exporter": "python",
   "pygments_lexer": "ipython3",
   "version": "3.11.9"
  }
 },
 "nbformat": 4,
 "nbformat_minor": 5
}
